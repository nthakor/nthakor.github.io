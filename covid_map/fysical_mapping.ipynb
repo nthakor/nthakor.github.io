{
 "nbformat": 4,
 "nbformat_minor": 2,
 "metadata": {
  "language_info": {
   "name": "python",
   "codemirror_mode": {
    "name": "ipython",
    "version": 3
   },
   "version": "3.7.6-final"
  },
  "orig_nbformat": 2,
  "file_extension": ".py",
  "mimetype": "text/x-python",
  "name": "python",
  "npconvert_exporter": "python",
  "pygments_lexer": "ipython3",
  "version": 3,
  "kernelspec": {
   "name": "python37664bitanaconda3virtualenv78189820337c4dbe9e82b1baaa31e074",
   "display_name": "Python 3.7.6 64-bit ('anaconda3': virtualenv)"
  }
 },
 "cells": [
  {
   "cell_type": "code",
   "execution_count": 29,
   "metadata": {},
   "outputs": [],
   "source": [
    "import pandas as pd\n",
    "import numpy as np"
   ]
  },
  {
   "cell_type": "code",
   "execution_count": 64,
   "metadata": {},
   "outputs": [],
   "source": [
    "df = pd.read_csv('FysicalLabs_HumanMovementPanel_2020-03-13T03_00012_US_00001.csv.gz',compression=\"gzip\",)\n",
    "# df[df[['Advertising_User_Id']]=='2F05A58D-4EDC-4E34-A69A-F51B0E959754']"
   ]
  },
  {
   "cell_type": "code",
   "execution_count": 76,
   "metadata": {},
   "outputs": [
    {
     "data": {
      "text/html": "<div>\n<style scoped>\n    .dataframe tbody tr th:only-of-type {\n        vertical-align: middle;\n    }\n\n    .dataframe tbody tr th {\n        vertical-align: top;\n    }\n\n    .dataframe thead th {\n        text-align: right;\n    }\n</style>\n<table border=\"1\" class=\"dataframe\">\n  <thead>\n    <tr style=\"text-align: right;\">\n      <th></th>\n      <th>Timestamp_With_Second_Precision</th>\n      <th>Timestamp_Millisecond_Component</th>\n      <th>Advertising_User_Id</th>\n      <th>Advertising_User_Id_Type</th>\n      <th>Device_Latitude</th>\n      <th>Device_Longitude</th>\n      <th>Device_Latitude_Longitude_Accuracy_In_Meters</th>\n      <th>ISO_3166_1_Alpha_2_Country_Code</th>\n      <th>Supplier_Id</th>\n      <th>Reporting_Application_Id</th>\n      <th>Device_IP_Address</th>\n      <th>Base64_Encoded_Device_User_Agent</th>\n    </tr>\n  </thead>\n  <tbody>\n    <tr>\n      <th>999900</th>\n      <td>2020-03-13T03:03:00Z</td>\n      <td>0</td>\n      <td>02D46114-9AB0-41C4-B8B3-9A2C691B8E88</td>\n      <td>IDFA</td>\n      <td>35.464700</td>\n      <td>-96.328700</td>\n      <td>25.1</td>\n      <td>US</td>\n      <td>671552C9107F65B5</td>\n      <td>NaN</td>\n      <td>NaN</td>\n      <td>NaN</td>\n    </tr>\n    <tr>\n      <th>999901</th>\n      <td>2020-03-13T03:03:00Z</td>\n      <td>0</td>\n      <td>02D52FDA-FE96-491B-8A62-802948AB6A0C</td>\n      <td>IDFA</td>\n      <td>41.850100</td>\n      <td>-90.669500</td>\n      <td>14.5</td>\n      <td>US</td>\n      <td>671552C9107F65B5</td>\n      <td>NaN</td>\n      <td>NaN</td>\n      <td>NaN</td>\n    </tr>\n    <tr>\n      <th>999902</th>\n      <td>2020-03-13T03:03:00Z</td>\n      <td>0</td>\n      <td>02E9A527-A902-4053-99A8-2478299B6553</td>\n      <td>ADID</td>\n      <td>29.900000</td>\n      <td>-95.340000</td>\n      <td>119.0</td>\n      <td>US</td>\n      <td>671552C9107F65B5</td>\n      <td>NaN</td>\n      <td>NaN</td>\n      <td>NaN</td>\n    </tr>\n    <tr>\n      <th>999903</th>\n      <td>2020-03-13T03:03:00Z</td>\n      <td>0</td>\n      <td>02FCBF8D-1A08-4D93-86C4-84B421E15354</td>\n      <td>ADID</td>\n      <td>33.905000</td>\n      <td>-93.769800</td>\n      <td>37.3</td>\n      <td>US</td>\n      <td>671552C9107F65B5</td>\n      <td>NaN</td>\n      <td>NaN</td>\n      <td>NaN</td>\n    </tr>\n    <tr>\n      <th>999904</th>\n      <td>2020-03-13T03:03:00Z</td>\n      <td>0</td>\n      <td>0312C12E-7FC6-42AD-88FB-A36EEAACE5B5</td>\n      <td>ADID</td>\n      <td>34.780000</td>\n      <td>-82.690000</td>\n      <td>94.0</td>\n      <td>US</td>\n      <td>671552C9107F65B5</td>\n      <td>NaN</td>\n      <td>NaN</td>\n      <td>NaN</td>\n    </tr>\n    <tr>\n      <th>...</th>\n      <td>...</td>\n      <td>...</td>\n      <td>...</td>\n      <td>...</td>\n      <td>...</td>\n      <td>...</td>\n      <td>...</td>\n      <td>...</td>\n      <td>...</td>\n      <td>...</td>\n      <td>...</td>\n      <td>...</td>\n    </tr>\n    <tr>\n      <th>999995</th>\n      <td>2020-03-13T03:03:00Z</td>\n      <td>0</td>\n      <td>06DD8C36-A56C-450A-B9F8-BC1C2A125E4C</td>\n      <td>IDFA</td>\n      <td>31.329549</td>\n      <td>-85.826125</td>\n      <td>9.7</td>\n      <td>US</td>\n      <td>671552C9107F65B5</td>\n      <td>NaN</td>\n      <td>NaN</td>\n      <td>NaN</td>\n    </tr>\n    <tr>\n      <th>999996</th>\n      <td>2020-03-13T03:03:00Z</td>\n      <td>0</td>\n      <td>06F8096D-DD4D-403C-965E-A8796BFEA1C0</td>\n      <td>IDFA</td>\n      <td>38.869279</td>\n      <td>-82.124507</td>\n      <td>7.1</td>\n      <td>US</td>\n      <td>671552C9107F65B5</td>\n      <td>NaN</td>\n      <td>NaN</td>\n      <td>NaN</td>\n    </tr>\n    <tr>\n      <th>999997</th>\n      <td>2020-03-13T03:03:00Z</td>\n      <td>0</td>\n      <td>0702CEAC-80E2-423E-8DA1-5A5A7CFF9C13</td>\n      <td>ADID</td>\n      <td>36.890850</td>\n      <td>-86.038450</td>\n      <td>10.1</td>\n      <td>US</td>\n      <td>671552C9107F65B5</td>\n      <td>NaN</td>\n      <td>NaN</td>\n      <td>NaN</td>\n    </tr>\n    <tr>\n      <th>999998</th>\n      <td>2020-03-13T03:03:00Z</td>\n      <td>0</td>\n      <td>0724E181-70EA-47D1-A925-E9068AD1BF6F</td>\n      <td>IDFA</td>\n      <td>38.950700</td>\n      <td>-86.613900</td>\n      <td>15.1</td>\n      <td>US</td>\n      <td>671552C9107F65B5</td>\n      <td>NaN</td>\n      <td>NaN</td>\n      <td>NaN</td>\n    </tr>\n    <tr>\n      <th>999999</th>\n      <td>2020-03-13T03:03:00Z</td>\n      <td>0</td>\n      <td>07266DBC-2E7D-4C93-B2D6-9CE5C3FB09FA</td>\n      <td>IDFA</td>\n      <td>41.243622</td>\n      <td>-111.954461</td>\n      <td>6.7</td>\n      <td>US</td>\n      <td>671552C9107F65B5</td>\n      <td>NaN</td>\n      <td>NaN</td>\n      <td>NaN</td>\n    </tr>\n  </tbody>\n</table>\n<p>100 rows × 12 columns</p>\n</div>",
      "text/plain": "       Timestamp_With_Second_Precision  Timestamp_Millisecond_Component  \\\n999900            2020-03-13T03:03:00Z                                0   \n999901            2020-03-13T03:03:00Z                                0   \n999902            2020-03-13T03:03:00Z                                0   \n999903            2020-03-13T03:03:00Z                                0   \n999904            2020-03-13T03:03:00Z                                0   \n...                                ...                              ...   \n999995            2020-03-13T03:03:00Z                                0   \n999996            2020-03-13T03:03:00Z                                0   \n999997            2020-03-13T03:03:00Z                                0   \n999998            2020-03-13T03:03:00Z                                0   \n999999            2020-03-13T03:03:00Z                                0   \n\n                         Advertising_User_Id Advertising_User_Id_Type  \\\n999900  02D46114-9AB0-41C4-B8B3-9A2C691B8E88                     IDFA   \n999901  02D52FDA-FE96-491B-8A62-802948AB6A0C                     IDFA   \n999902  02E9A527-A902-4053-99A8-2478299B6553                     ADID   \n999903  02FCBF8D-1A08-4D93-86C4-84B421E15354                     ADID   \n999904  0312C12E-7FC6-42AD-88FB-A36EEAACE5B5                     ADID   \n...                                      ...                      ...   \n999995  06DD8C36-A56C-450A-B9F8-BC1C2A125E4C                     IDFA   \n999996  06F8096D-DD4D-403C-965E-A8796BFEA1C0                     IDFA   \n999997  0702CEAC-80E2-423E-8DA1-5A5A7CFF9C13                     ADID   \n999998  0724E181-70EA-47D1-A925-E9068AD1BF6F                     IDFA   \n999999  07266DBC-2E7D-4C93-B2D6-9CE5C3FB09FA                     IDFA   \n\n        Device_Latitude  Device_Longitude  \\\n999900        35.464700        -96.328700   \n999901        41.850100        -90.669500   \n999902        29.900000        -95.340000   \n999903        33.905000        -93.769800   \n999904        34.780000        -82.690000   \n...                 ...               ...   \n999995        31.329549        -85.826125   \n999996        38.869279        -82.124507   \n999997        36.890850        -86.038450   \n999998        38.950700        -86.613900   \n999999        41.243622       -111.954461   \n\n        Device_Latitude_Longitude_Accuracy_In_Meters  \\\n999900                                          25.1   \n999901                                          14.5   \n999902                                         119.0   \n999903                                          37.3   \n999904                                          94.0   \n...                                              ...   \n999995                                           9.7   \n999996                                           7.1   \n999997                                          10.1   \n999998                                          15.1   \n999999                                           6.7   \n\n       ISO_3166_1_Alpha_2_Country_Code       Supplier_Id  \\\n999900                              US  671552C9107F65B5   \n999901                              US  671552C9107F65B5   \n999902                              US  671552C9107F65B5   \n999903                              US  671552C9107F65B5   \n999904                              US  671552C9107F65B5   \n...                                ...               ...   \n999995                              US  671552C9107F65B5   \n999996                              US  671552C9107F65B5   \n999997                              US  671552C9107F65B5   \n999998                              US  671552C9107F65B5   \n999999                              US  671552C9107F65B5   \n\n        Reporting_Application_Id Device_IP_Address  \\\n999900                       NaN               NaN   \n999901                       NaN               NaN   \n999902                       NaN               NaN   \n999903                       NaN               NaN   \n999904                       NaN               NaN   \n...                          ...               ...   \n999995                       NaN               NaN   \n999996                       NaN               NaN   \n999997                       NaN               NaN   \n999998                       NaN               NaN   \n999999                       NaN               NaN   \n\n        Base64_Encoded_Device_User_Agent  \n999900                               NaN  \n999901                               NaN  \n999902                               NaN  \n999903                               NaN  \n999904                               NaN  \n...                                  ...  \n999995                               NaN  \n999996                               NaN  \n999997                               NaN  \n999998                               NaN  \n999999                               NaN  \n\n[100 rows x 12 columns]"
     },
     "execution_count": 76,
     "metadata": {},
     "output_type": "execute_result"
    }
   ],
   "source": [
    "# df2 = df.head(10000)\n",
    "# df2.head()\n",
    "# len(df)\n",
    "df.tail(100)"
   ]
  },
  {
   "cell_type": "code",
   "execution_count": 77,
   "metadata": {},
   "outputs": [
    {
     "data": {
      "text/html": "<div>\n<style scoped>\n    .dataframe tbody tr th:only-of-type {\n        vertical-align: middle;\n    }\n\n    .dataframe tbody tr th {\n        vertical-align: top;\n    }\n\n    .dataframe thead th {\n        text-align: right;\n    }\n</style>\n<table border=\"1\" class=\"dataframe\">\n  <thead>\n    <tr style=\"text-align: right;\">\n      <th></th>\n      <th>Timestamp_With_Second_Precision</th>\n      <th>Timestamp_Millisecond_Component</th>\n      <th>Advertising_User_Id</th>\n      <th>Advertising_User_Id_Type</th>\n      <th>Device_Latitude</th>\n      <th>Device_Longitude</th>\n      <th>Device_Latitude_Longitude_Accuracy_In_Meters</th>\n      <th>ISO_3166_1_Alpha_2_Country_Code</th>\n      <th>Supplier_Id</th>\n      <th>Reporting_Application_Id</th>\n      <th>Device_IP_Address</th>\n      <th>Base64_Encoded_Device_User_Agent</th>\n    </tr>\n  </thead>\n  <tbody>\n    <tr>\n      <th>32803</th>\n      <td>2020-03-13T03:00:05Z</td>\n      <td>0</td>\n      <td>02E9A527-A902-4053-99A8-2478299B6553</td>\n      <td>ADID</td>\n      <td>29.900000</td>\n      <td>-95.340000</td>\n      <td>203.0</td>\n      <td>US</td>\n      <td>671552C9107F65B5</td>\n      <td>NaN</td>\n      <td>NaN</td>\n      <td>NaN</td>\n    </tr>\n    <tr>\n      <th>290817</th>\n      <td>2020-03-13T03:00:53Z</td>\n      <td>0</td>\n      <td>02E9A527-A902-4053-99A8-2478299B6553</td>\n      <td>ADID</td>\n      <td>29.909789</td>\n      <td>-95.346429</td>\n      <td>34.2</td>\n      <td>US</td>\n      <td>671552C9107F65B5</td>\n      <td>NaN</td>\n      <td>NaN</td>\n      <td>NaN</td>\n    </tr>\n    <tr>\n      <th>407364</th>\n      <td>2020-03-13T03:01:14Z</td>\n      <td>0</td>\n      <td>02E9A527-A902-4053-99A8-2478299B6553</td>\n      <td>ADID</td>\n      <td>29.900000</td>\n      <td>-95.340000</td>\n      <td>113.0</td>\n      <td>US</td>\n      <td>671552C9107F65B5</td>\n      <td>NaN</td>\n      <td>NaN</td>\n      <td>NaN</td>\n    </tr>\n    <tr>\n      <th>590541</th>\n      <td>2020-03-13T03:01:47Z</td>\n      <td>0</td>\n      <td>02E9A527-A902-4053-99A8-2478299B6553</td>\n      <td>ADID</td>\n      <td>29.900000</td>\n      <td>-95.340000</td>\n      <td>120.0</td>\n      <td>US</td>\n      <td>671552C9107F65B5</td>\n      <td>NaN</td>\n      <td>NaN</td>\n      <td>NaN</td>\n    </tr>\n    <tr>\n      <th>775596</th>\n      <td>2020-03-13T03:02:20Z</td>\n      <td>0</td>\n      <td>02E9A527-A902-4053-99A8-2478299B6553</td>\n      <td>ADID</td>\n      <td>29.909789</td>\n      <td>-95.346429</td>\n      <td>25.6</td>\n      <td>US</td>\n      <td>671552C9107F65B5</td>\n      <td>NaN</td>\n      <td>NaN</td>\n      <td>NaN</td>\n    </tr>\n    <tr>\n      <th>999902</th>\n      <td>2020-03-13T03:03:00Z</td>\n      <td>0</td>\n      <td>02E9A527-A902-4053-99A8-2478299B6553</td>\n      <td>ADID</td>\n      <td>29.900000</td>\n      <td>-95.340000</td>\n      <td>119.0</td>\n      <td>US</td>\n      <td>671552C9107F65B5</td>\n      <td>NaN</td>\n      <td>NaN</td>\n      <td>NaN</td>\n    </tr>\n  </tbody>\n</table>\n</div>",
      "text/plain": "       Timestamp_With_Second_Precision  Timestamp_Millisecond_Component  \\\n32803             2020-03-13T03:00:05Z                                0   \n290817            2020-03-13T03:00:53Z                                0   \n407364            2020-03-13T03:01:14Z                                0   \n590541            2020-03-13T03:01:47Z                                0   \n775596            2020-03-13T03:02:20Z                                0   \n999902            2020-03-13T03:03:00Z                                0   \n\n                         Advertising_User_Id Advertising_User_Id_Type  \\\n32803   02E9A527-A902-4053-99A8-2478299B6553                     ADID   \n290817  02E9A527-A902-4053-99A8-2478299B6553                     ADID   \n407364  02E9A527-A902-4053-99A8-2478299B6553                     ADID   \n590541  02E9A527-A902-4053-99A8-2478299B6553                     ADID   \n775596  02E9A527-A902-4053-99A8-2478299B6553                     ADID   \n999902  02E9A527-A902-4053-99A8-2478299B6553                     ADID   \n\n        Device_Latitude  Device_Longitude  \\\n32803         29.900000        -95.340000   \n290817        29.909789        -95.346429   \n407364        29.900000        -95.340000   \n590541        29.900000        -95.340000   \n775596        29.909789        -95.346429   \n999902        29.900000        -95.340000   \n\n        Device_Latitude_Longitude_Accuracy_In_Meters  \\\n32803                                          203.0   \n290817                                          34.2   \n407364                                         113.0   \n590541                                         120.0   \n775596                                          25.6   \n999902                                         119.0   \n\n       ISO_3166_1_Alpha_2_Country_Code       Supplier_Id  \\\n32803                               US  671552C9107F65B5   \n290817                              US  671552C9107F65B5   \n407364                              US  671552C9107F65B5   \n590541                              US  671552C9107F65B5   \n775596                              US  671552C9107F65B5   \n999902                              US  671552C9107F65B5   \n\n        Reporting_Application_Id Device_IP_Address  \\\n32803                        NaN               NaN   \n290817                       NaN               NaN   \n407364                       NaN               NaN   \n590541                       NaN               NaN   \n775596                       NaN               NaN   \n999902                       NaN               NaN   \n\n        Base64_Encoded_Device_User_Agent  \n32803                                NaN  \n290817                               NaN  \n407364                               NaN  \n590541                               NaN  \n775596                               NaN  \n999902                               NaN  "
     },
     "execution_count": 77,
     "metadata": {},
     "output_type": "execute_result"
    }
   ],
   "source": [
    "# df2.head()\n",
    "df[df[\"Advertising_User_Id\"]==\"02E9A527-A902-4053-99A8-2478299B6553\"]"
   ]
  },
  {
   "cell_type": "code",
   "execution_count": 71,
   "metadata": {},
   "outputs": [
    {
     "data": {
      "text/plain": "1000000"
     },
     "execution_count": 71,
     "metadata": {},
     "output_type": "execute_result"
    }
   ],
   "source": [
    "import foli"
   ]
  },
  {
   "cell_type": "code",
   "execution_count": 23,
   "metadata": {},
   "outputs": [],
   "source": [
    "df = df.rename(columns={'Device_Latitude': 'lat','Device_Longitude':'long'})"
   ]
  },
  {
   "cell_type": "code",
   "execution_count": 7,
   "metadata": {},
   "outputs": [],
   "source": [
    "loc = np.array([39.7805817,-104.9719301])"
   ]
  },
  {
   "cell_type": "code",
   "execution_count": 27,
   "metadata": {},
   "outputs": [],
   "source": [
    "def sum_loc(row):\n",
    "    return row.lat+row.long"
   ]
  },
  {
   "cell_type": "code",
   "execution_count": 28,
   "metadata": {},
   "outputs": [
    {
     "data": {
      "text/plain": "0        -53.640054\n1        -52.175798\n2        -53.582835\n3        -29.001174\n4        -35.164431\n            ...    \n241355   -28.449309\n241356   -37.134359\n241357   -79.168567\n241358   -49.433433\n241359   -63.661548\nLength: 241360, dtype: float64"
     },
     "execution_count": 28,
     "metadata": {},
     "output_type": "execute_result"
    }
   ],
   "source": [
    "df.apply(sum_loc,axis=1)"
   ]
  },
  {
   "cell_type": "code",
   "execution_count": 26,
   "metadata": {},
   "outputs": [
    {
     "data": {
      "text/plain": "lat     float64\nlong    float64\ndtype: object"
     },
     "execution_count": 26,
     "metadata": {},
     "output_type": "execute_result"
    }
   ],
   "source": [
    "df.dtypes"
   ]
  },
  {
   "cell_type": "code",
   "execution_count": null,
   "metadata": {},
   "outputs": [],
   "source": []
  }
 ]
}