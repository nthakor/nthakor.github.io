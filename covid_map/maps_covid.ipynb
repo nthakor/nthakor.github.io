{
 "cells": [
  {
   "cell_type": "code",
   "execution_count": 25,
   "metadata": {},
   "outputs": [],
   "source": [
    "import pandas as pd\n",
    "import folium\n",
    "from folium.plugins import MarkerCluster\n",
    "# from folium.plugins import FloatImage\n",
    "import numpy as np\n",
    "import json\n",
    "from folium import FeatureGroup, LayerControl"
   ]
  },
  {
   "cell_type": "code",
   "execution_count": 26,
   "metadata": {},
   "outputs": [],
   "source": [
    "st_abbrev = json.load(open(\"st_abbrev.json\",'r'))"
   ]
  },
  {
   "cell_type": "code",
   "execution_count": 27,
   "metadata": {},
   "outputs": [],
   "source": [
    "curl = \"https://raw.githubusercontent.com/CSSEGISandData/COVID-19/master/csse_covid_19_data/csse_covid_19_time_series/time_series_19-covid-Confirmed.csv\" \n",
    "rurl = \"https://raw.githubusercontent.com/CSSEGISandData/COVID-19/master/csse_covid_19_data/csse_covid_19_time_series/time_series_19-covid-Recovered.csv\"\n",
    "durl = \"https://raw.githubusercontent.com/CSSEGISandData/COVID-19/master/csse_covid_19_data/csse_covid_19_time_series/time_series_19-covid-Deaths.csv\"\n",
    "df = pd.read_csv(curl)\n",
    "df = df.drop(columns = list(df.columns)[4:-1])\n",
    "df = df[df[\"Country/Region\"]==\"US\"]\n",
    "df = df.rename(columns={list(df.columns)[-1]:\"cases\"})\n",
    "df = df.rename(columns={\"Province/State\":\"states\"})\n",
    "df = df[np.array([len(word.split(',')) for word in df['states'].tolist()])==1]\n",
    "df = df[[x in st_abbrev.keys() for x in df.states]]\n",
    "df[\"states\"].replace(st_abbrev,inplace=True)"
   ]
  },
  {
   "cell_type": "code",
   "execution_count": 28,
   "metadata": {},
   "outputs": [
    {
     "data": {
      "text/html": [
       "<div>\n",
       "<style scoped>\n",
       "    .dataframe tbody tr th:only-of-type {\n",
       "        vertical-align: middle;\n",
       "    }\n",
       "\n",
       "    .dataframe tbody tr th {\n",
       "        vertical-align: top;\n",
       "    }\n",
       "\n",
       "    .dataframe thead th {\n",
       "        text-align: right;\n",
       "    }\n",
       "</style>\n",
       "<table border=\"1\" class=\"dataframe\">\n",
       "  <thead>\n",
       "    <tr style=\"text-align: right;\">\n",
       "      <th></th>\n",
       "      <th>states</th>\n",
       "      <th>Country/Region</th>\n",
       "      <th>Lat</th>\n",
       "      <th>Long</th>\n",
       "      <th>cases</th>\n",
       "    </tr>\n",
       "  </thead>\n",
       "  <tbody>\n",
       "    <tr>\n",
       "      <th>98</th>\n",
       "      <td>WA</td>\n",
       "      <td>US</td>\n",
       "      <td>47.4009</td>\n",
       "      <td>-121.4905</td>\n",
       "      <td>904</td>\n",
       "    </tr>\n",
       "    <tr>\n",
       "      <th>99</th>\n",
       "      <td>NY</td>\n",
       "      <td>US</td>\n",
       "      <td>42.1657</td>\n",
       "      <td>-74.9481</td>\n",
       "      <td>967</td>\n",
       "    </tr>\n",
       "    <tr>\n",
       "      <th>100</th>\n",
       "      <td>CA</td>\n",
       "      <td>US</td>\n",
       "      <td>36.1162</td>\n",
       "      <td>-119.6816</td>\n",
       "      <td>557</td>\n",
       "    </tr>\n",
       "    <tr>\n",
       "      <th>101</th>\n",
       "      <td>MA</td>\n",
       "      <td>US</td>\n",
       "      <td>42.2302</td>\n",
       "      <td>-71.5301</td>\n",
       "      <td>197</td>\n",
       "    </tr>\n",
       "    <tr>\n",
       "      <th>104</th>\n",
       "      <td>GA</td>\n",
       "      <td>US</td>\n",
       "      <td>33.0406</td>\n",
       "      <td>-83.6431</td>\n",
       "      <td>121</td>\n",
       "    </tr>\n",
       "  </tbody>\n",
       "</table>\n",
       "</div>"
      ],
      "text/plain": [
       "    states Country/Region      Lat      Long  cases\n",
       "98      WA             US  47.4009 -121.4905    904\n",
       "99      NY             US  42.1657  -74.9481    967\n",
       "100     CA             US  36.1162 -119.6816    557\n",
       "101     MA             US  42.2302  -71.5301    197\n",
       "104     GA             US  33.0406  -83.6431    121"
      ]
     },
     "execution_count": 28,
     "metadata": {},
     "output_type": "execute_result"
    }
   ],
   "source": [
    "def process_df(url,st_abbrev):\n",
    "    df = pd.read_csv(url)\n",
    "    df = df.drop(columns = list(df.columns)[4:-1])\n",
    "    df = df[df[\"Country/Region\"]==\"US\"]\n",
    "    df = df.rename(columns={list(df.columns)[-1]:\"cases\"})\n",
    "    df = df.rename(columns={\"Province/State\":\"states\"})\n",
    "    df = df[np.array([len(word.split(',')) for word in df['states'].tolist()])==1]\n",
    "    df = df[[x in st_abbrev.keys() for x in df.states]]\n",
    "    df[\"states\"].replace(st_abbrev,inplace=True)\n",
    "    return df\n",
    "\n",
    "curr_df = process_df(curl,st_abbrev)\n",
    "recovery_df = process_df(rurl,st_abbrev)\n",
    "death_df = process_df(durl,st_abbrev)\n",
    "curr_df.head()"
   ]
  },
  {
   "cell_type": "code",
   "execution_count": 29,
   "metadata": {},
   "outputs": [],
   "source": [
    "import requests\n",
    "url = 'https://raw.githubusercontent.com/python-visualization/folium/master/examples/data'\n",
    "us_states = f'{url}/us-states.json'\n",
    "US_Unemployment_Oct2012 = f'{url}/US_Unemployment_Oct2012.csv'\n",
    "\n",
    "geo_json_data = json.loads(requests.get(us_states).text)"
   ]
  },
  {
   "cell_type": "code",
   "execution_count": 30,
   "metadata": {},
   "outputs": [],
   "source": [
    "import branca.colormap as cm\n",
    "linear = cm.LinearColormap(\n",
    "    ['orange', 'red'],\n",
    "    vmin=0, vmax=max(curr_df.cases)\n",
    ")\n",
    "# linear\n",
    "# curr_df.cases\n",
    "def my_color_function(feature):\n",
    "    return linear(list(curr_df[curr_df[\"states\"]==feature['id']].cases)[0])"
   ]
  },
  {
   "cell_type": "code",
   "execution_count": 31,
   "metadata": {},
   "outputs": [
    {
     "data": {
      "text/plain": [
       "<folium.map.FeatureGroup at 0x1a4cd9b8d0>"
      ]
     },
     "execution_count": 31,
     "metadata": {},
     "output_type": "execute_result"
    }
   ],
   "source": [
    "covid_map = folium.Map(location=[curr_df['Lat'].mean(),curr_df['Long'].mean()],zoom_start=4,zoom_control=False)\n",
    "states_feature = FeatureGroup(name=\"States Heatmap\")\n",
    "folium.GeoJson(geo_json_data,\n",
    "    style_function=lambda feature: {\n",
    "        'fillColor': my_color_function(feature),\n",
    "        'color': 'black',\n",
    "        'weight': 2,\n",
    "        'dashArray': '5, 5'\n",
    "    }\n",
    ").add_to(states_feature)\n",
    "states_feature.add_to(covid_map)\n",
    "# cdf = curr_df\n",
    "# for state in cdf['states'].unique():\n",
    "#   if(cdf[cdf['states']==state].iloc[-1][-1]!=0):\n",
    "#     folium.Marker([cdf[cdf['states']==state]['Lat'].values[0],cdf[cdf['states']==state]['Long'].values[0]],\n",
    "#                 popup='<i>No. of confirmed cases: %s</i>'%(cdf[cdf['states']==state].iloc[-1][-1]) , \\\n",
    "#                   tooltip=state,icon=folium.Icon(color='red',icon_size=(30, 30))).add_to(covid_map)    \n",
    "icon_create_function = '''\n",
    " function (cluster) {\n",
    " var childCount = cluster.getChildCount();\n",
    " var c = ' marker-cluster-';\n",
    " if (childCount < 0) {\n",
    "   c += 'small';\n",
    " } \n",
    " else if (childCount < 0) {\n",
    "   c += 'medium';\n",
    " } \n",
    " else {\n",
    "   c += 'large';\n",
    " }\n",
    "\n",
    " return new L.DivIcon({ html: '<div><span>' + childCount + '</span></div>', \n",
    "  className: 'marker-cluster' + c, iconSize: new L.Point(40, 40) });\n",
    " }\n",
    "'''\n",
    "\n",
    "feature_group = FeatureGroup(name='Confirmed Cases')\n",
    "mc = MarkerCluster(icon_create_function=icon_create_function)\n",
    "\n",
    "for row in df.itertuples():\n",
    "    for _ in range(row.cases):\n",
    "        mc.add_child(folium.Circle(location=[row.Lat, row.Long],radius=0,color='red'))\n",
    "\n",
    "\n",
    "mc.add_to(feature_group)\n",
    "feature_group.add_to(covid_map)\n",
    "# url = 'https://raw.githubusercontent.com/nthakor/imghost/master/blueicon.png'\n",
    "# FloatImage(url, bottom = 82, left=5).add_to(covid_map)"
   ]
  },
  {
   "cell_type": "code",
   "execution_count": 32,
   "metadata": {},
   "outputs": [],
   "source": [
    "from __future__ import print_function\n",
    "import pickle\n",
    "import os.path\n",
    "from googleapiclient.discovery import build\n",
    "from google_auth_oauthlib.flow import InstalledAppFlow\n",
    "from google.auth.transport.requests import Request\n",
    "SCOPES = ['https://www.googleapis.com/auth/spreadsheets.readonly']\n",
    "SAMPLE_SPREADSHEET_ID = '1QmwkYAsWf6_4LP4-vTADqn55DePslfjNSgtJ770v0vk'\n",
    "SAMPLE_RANGE_NAME = 'Centers'\n",
    "\n",
    "def get_data_from_sheets():\n",
    "    \"\"\"Shows basic usage of the Sheets API.\n",
    "    Prints values from a sample spreadsheet.\n",
    "    \"\"\"\n",
    "    creds = None\n",
    "    if os.path.exists('token.pickle'):\n",
    "        with open('token.pickle', 'rb') as token:\n",
    "            creds = pickle.load(token)\n",
    "    if not creds or not creds.valid:\n",
    "        if creds and creds.expired and creds.refresh_token:\n",
    "            creds.refresh(Request())\n",
    "        else:\n",
    "            flow = InstalledAppFlow.from_client_secrets_file(\n",
    "                'credentials.json', SCOPES)\n",
    "            creds = flow.run_local_server(port=0)\n",
    "        with open('token.pickle', 'wb') as token:\n",
    "            pickle.dump(creds, token)\n",
    "    service = build('sheets', 'v4', credentials=creds)\n",
    "    sheet = service.spreadsheets()\n",
    "    result = sheet.values().get(spreadsheetId=SAMPLE_SPREADSHEET_ID,\n",
    "                                range=SAMPLE_RANGE_NAME).execute()\n",
    "    values = result.get('values', [])\n",
    "    return pd.DataFrame.from_records(values,columns=values[0])\n",
    "tloc = get_data_from_sheets()\n",
    "tloc = tloc.drop(tloc.index[0])\n",
    "tloc[[\"Latitute\", \"Longitude\"]] = tloc[[\"Latitute\", \"Longitude\"]].apply(pd.to_numeric)\n",
    "tloc = tloc[tloc['Latitute'].notnull()]"
   ]
  },
  {
   "cell_type": "code",
   "execution_count": 33,
   "metadata": {},
   "outputs": [
    {
     "data": {
      "text/plain": [
       "<folium.map.FeatureGroup at 0x1a4c659150>"
      ]
     },
     "execution_count": 33,
     "metadata": {},
     "output_type": "execute_result"
    }
   ],
   "source": [
    "from folium.plugins import BeautifyIcon\n",
    "testing_feature = FeatureGroup(name='Testing Centers')\n",
    "for row in tloc.itertuples():\n",
    "    folium.Marker((row.Latitute,row.Longitude),popup = folium.Popup('<a href=\"%s\" target=\"_blank\"> %s </a>'%(row.URL,row._2)),icon=folium.Icon(color='blue')).add_to(testing_feature)\n",
    "testing_feature.add_to(covid_map)\n",
    "# LayerControl().add_to(covid_map)\n"
   ]
  },
  {
   "cell_type": "code",
   "execution_count": null,
   "metadata": {},
   "outputs": [],
   "source": []
  },
  {
   "cell_type": "code",
   "execution_count": 12,
   "metadata": {},
   "outputs": [],
   "source": [
    "# covid_map.save(\"covid_19_us.html\")"
   ]
  },
  {
   "cell_type": "code",
   "execution_count": 36,
   "metadata": {},
   "outputs": [
    {
     "data": {
      "text/plain": [
       "<body>\n",
       "<div class=\"folium-map\" id=\"map_fb2896052fc24e18aeff1d3b18cda8c6\"></div><div class=\"grid-container-bottom\" id=\"bottom_div\">\n",
       "<div>\n",
       "<p>Confirmed cases data obtained from <a href=\"https://coronavirus.jhu.edu/\" target=\"_black\">coronavirus.jhu.edu\n",
       "        </a></p>\n",
       "</div>\n",
       "<div></div>\n",
       "</div><div class=\"grid-container-top\" id=\"top_div\">\n",
       "<div>\n",
       "<a href=\"https://www.sokat.co/\" target=\"_blank\"><img alt=\"float_image\" class=\"responsive\" id=\"float_image_e695752ea9b14073a71fa159ee72b319\" src=\"https://raw.githubusercontent.com/nthakor/imghost/master/blueicon.png\" style=\"padding-left:0%\"/>\n",
       "</a>\n",
       "<p style=\"word-break: break-all font-size:0.2vw\">Please email - <a href=\"mailto:testing@sokat.co\">testing@sokat.co</a> new locations</p>\n",
       "</div>\n",
       "<div>\n",
       "<h2>Location of Drive-Thru COVID19 Testing Sites across America</h2>\n",
       "<h4>Blue Flags mark drive-thru testing sites and Orange Circles display the number of confirmed cases</h4>\n",
       "</div>\n",
       "</div>\n",
       "</body>"
      ]
     },
     "execution_count": 36,
     "metadata": {},
     "output_type": "execute_result"
    }
   ],
   "source": [
    "import bs4\n",
    "# with open(\"covid_19_us.html\") as f:\n",
    "#     txt = f.read()\n",
    "soup = bs4.BeautifulSoup(covid_map.get_root().render(),'html.parser')\n",
    "with open('map_title.html') as f:\n",
    "    txt = f.read()\n",
    "    title = bs4.BeautifulSoup(txt,'html.parser')\n",
    "with open('map_bottom.html') as f:\n",
    "    txt = f.read()\n",
    "    bottom = bs4.BeautifulSoup(txt,'html.parser')\n",
    "title_command = title.div\n",
    "bottom_command = bottom.div\n",
    "soup.body.div.insert_after(title_command)\n",
    "soup.body.div.insert_after(bottom_command)\n",
    "soup.body"
   ]
  },
  {
   "cell_type": "code",
   "execution_count": 37,
   "metadata": {},
   "outputs": [
    {
     "data": {
      "text/plain": [
       "<head>\n",
       "<meta content=\"text/html; charset=utf-8\" http-equiv=\"content-type\"/>\n",
       "<script>\n",
       "            L_NO_TOUCH = false;\n",
       "            L_DISABLE_3D = false;\n",
       "        </script>\n",
       "<script src=\"https://cdn.jsdelivr.net/npm/leaflet@1.5.1/dist/leaflet.js\"></script>\n",
       "<script src=\"https://code.jquery.com/jquery-1.12.4.min.js\"></script>\n",
       "<script src=\"https://maxcdn.bootstrapcdn.com/bootstrap/3.2.0/js/bootstrap.min.js\"></script>\n",
       "<script src=\"https://cdnjs.cloudflare.com/ajax/libs/Leaflet.awesome-markers/2.0.2/leaflet.awesome-markers.js\"></script>\n",
       "<link href=\"https://cdn.jsdelivr.net/npm/leaflet@1.5.1/dist/leaflet.css\" rel=\"stylesheet\"/>\n",
       "<link href=\"https://maxcdn.bootstrapcdn.com/bootstrap/3.2.0/css/bootstrap.min.css\" rel=\"stylesheet\"/>\n",
       "<link href=\"https://maxcdn.bootstrapcdn.com/bootstrap/3.2.0/css/bootstrap-theme.min.css\" rel=\"stylesheet\"/>\n",
       "<link href=\"https://maxcdn.bootstrapcdn.com/font-awesome/4.6.3/css/font-awesome.min.css\" rel=\"stylesheet\"/>\n",
       "<link href=\"https://cdnjs.cloudflare.com/ajax/libs/Leaflet.awesome-markers/2.0.2/leaflet.awesome-markers.css\" rel=\"stylesheet\"/>\n",
       "<link href=\"https://rawcdn.githack.com/python-visualization/folium/master/folium/templates/leaflet.awesome.rotate.css\" rel=\"stylesheet\"/>\n",
       "<style>html, body {width: 100%;height: 100%;margin: 0;padding: 0;}</style><link href=\"mapStyle.css\" rel=\"stylesheet\"/>\n",
       "<style>#map {position:absolute;top:0;bottom:0;right:0;left:0;}</style>\n",
       "<meta content=\"width=device-width,\n",
       "                initial-scale=1.0, maximum-scale=1.0, user-scalable=no\" name=\"viewport\"/>\n",
       "<style>\n",
       "                #map_fb2896052fc24e18aeff1d3b18cda8c6 {\n",
       "                    position: relative;\n",
       "                    width: 100.0%;\n",
       "                    height: 100.0%;\n",
       "                    left: 0.0%;\n",
       "                    top: 0.0%;\n",
       "                }\n",
       "            </style>\n",
       "<script src=\"https://cdnjs.cloudflare.com/ajax/libs/leaflet.markercluster/1.1.0/leaflet.markercluster.js\"></script>\n",
       "<link href=\"https://cdnjs.cloudflare.com/ajax/libs/leaflet.markercluster/1.1.0/MarkerCluster.css\" rel=\"stylesheet\"/>\n",
       "<link href=\"https://cdnjs.cloudflare.com/ajax/libs/leaflet.markercluster/1.1.0/MarkerCluster.Default.css\" rel=\"stylesheet\"/>\n",
       "</head>"
      ]
     },
     "execution_count": 37,
     "metadata": {},
     "output_type": "execute_result"
    }
   ],
   "source": [
    "map_style = bs4.BeautifulSoup('<link rel=\"stylesheet\" href=\"mapStyle.css\"/>','html.parser')\n",
    "soup.head.style.insert_after(map_style)\n",
    "soup.head"
   ]
  },
  {
   "cell_type": "code",
   "execution_count": null,
   "metadata": {},
   "outputs": [],
   "source": [
    "# # nt = soup.new_tag('p',id=\"float_text\")\n",
    "# # nt.string = \"Please Email new locations\"\n",
    "# # nt.append(soup.new_tag('a',href=\"anc\"))\n",
    "# # nt\n",
    "# nt = bs4.BeautifulSoup('<p id=\"float_text\">Please email - <a href=\"mailto:tests@sokat.co\">test@sokat.co</a> new locations</p>')\n",
    "# st = soup.new_tag('style', type='text/css')\n",
    "# st.append('#float_text {position: absolute;bottom: 78%;left: 5%;z-index: 999999;}')\n",
    "# soup.head.append(st)\n",
    "# soup.a.insert_after(nt.p)\n",
    "# title = bs4.BeautifulSoup()\n"
   ]
  },
  {
   "cell_type": "code",
   "execution_count": null,
   "metadata": {},
   "outputs": [],
   "source": [
    "type(soup.find_all('script')[-1])"
   ]
  },
  {
   "cell_type": "code",
   "execution_count": 38,
   "metadata": {},
   "outputs": [],
   "source": [
    "with open(\"covid_19_us.html\", \"w\") as file:\n",
    "    file.write(str(soup))"
   ]
  },
  {
   "cell_type": "code",
   "execution_count": null,
   "metadata": {},
   "outputs": [],
   "source": [
    "print(soup.body.prettify())"
   ]
  },
  {
   "cell_type": "code",
   "execution_count": null,
   "metadata": {},
   "outputs": [],
   "source": []
  }
 ],
 "metadata": {
  "kernelspec": {
   "display_name": "Python 3",
   "language": "python",
   "name": "python3"
  },
  "language_info": {
   "codemirror_mode": {
    "name": "ipython",
    "version": 3
   },
   "file_extension": ".py",
   "mimetype": "text/x-python",
   "name": "python",
   "nbconvert_exporter": "python",
   "pygments_lexer": "ipython3",
   "version": "3.7.6"
  }
 },
 "nbformat": 4,
 "nbformat_minor": 4
}
